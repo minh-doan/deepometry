{
 "cells": [
  {
   "cell_type": "markdown",
   "metadata": {},
   "source": [
    "# ------------- User's settings -------------"
   ]
  },
  {
   "cell_type": "code",
   "execution_count": null,
   "metadata": {
    "collapsed": true
   },
   "outputs": [],
   "source": [
    "# Define labels of the classes and location of raw data :\n",
    "data = {\n",
    "    'Class_1': '/raw/Class_1/',\n",
    "    'Class_2': '/raw/Class_2/',\n",
    "    'Class_3': '/raw/Class_3/',\n",
    "}\n",
    "\n",
    "# Define which filetype to be used in this raw data location:\n",
    "filetype = 'cif'\n",
    "\n",
    "# Select which channels to be included in the digested data:\n",
    "channels = [3,6]\n",
    "\n",
    "image_size = 48\n",
    "\n",
    "# Desired location to save digested data :\n",
    "directory = '/digested/'\n",
    "\n",
    "split = {\n",
    "    'Training' : 0.8,\n",
    "    'Validation' : 0.1,\n",
    "    'Testing' : 0.1\n",
    "}"
   ]
  },
  {
   "cell_type": "markdown",
   "metadata": {},
   "source": [
    "# Note 1:\n",
    "\n",
    "Split ratio for different validation methods:\n",
    "\n",
    "1. Split the whole collection of data into Training / Validation / Testing:\n",
    "\n",
    "    For example:\n",
    "    \n",
    "            split = {\n",
    "                \"Training\" : 0.8,\n",
    "                \"Validation\" : 0.1,\n",
    "                \"Testing\" : 0.1\n",
    "            }\n",
    "            \n",
    "2. Split the collection of data into Training / Validation, select another dataset for Testing:\n",
    "\n",
    "    For example:\n",
    "    \n",
    "        - First, set raw data location, output directory and split ratio for Training / Validation:\n",
    "        \n",
    "            data = {\n",
    "                \"Class_1\": \"/raw/Class_1/\",\n",
    "                \"Class_2\": \"/raw/Class_2/\",\n",
    "                \"Class_3\": \"/raw/Class_3/\",\n",
    "            }\n",
    "            \n",
    "            directory = '/digested_TRAIN/'            \n",
    "            \n",
    "            split = {\n",
    "                \"Training\" : 0.8,\n",
    "                \"Validation\" : 0.2,\n",
    "                \"Testing\" : 0\n",
    "            }\n",
    "            \n",
    "        - Perform data digestion with this split:\n",
    "        \n",
    "            digest.parse(directory, data, channels, image_size)\n",
    "            digest.class_weights(directory, data)\n",
    "            digest.split(directory, split)\n",
    "            \n",
    "        - Then, set NEW raw data location, NEW output directory and NEW split ratio for Testing:\n",
    "\n",
    "            data = {\n",
    "                \"Class_1\": \"/raw/Class_1/\",\n",
    "                \"Class_2\": \"/raw/Class_2/\",\n",
    "                \"Class_3\": \"/raw/Class_3/\",\n",
    "            }\n",
    "            \n",
    "            directory = '/digested_TEST/'            \n",
    "            \n",
    "            split = {\n",
    "                \"Training\" : 0,\n",
    "                \"Validation\" : 0,\n",
    "                \"Testing\" : 1\n",
    "            }\n",
    "\n",
    "        - Repeat data digestion with NEW inputs:\n",
    "        \n",
    "            digest.parse(directory, data, channels, image_size)\n",
    "            digest.class_weights(directory, data)\n",
    "            digest.split(directory, split)\n",
    "\n",
    "3. k-fold cross validation:\n",
    "\n",
    "    For example: for 5-fold cross validation\n",
    "    \n",
    "            split = {\n",
    "                \"Training\" : 0.8,\n",
    "                \"Validation\" : 0.2,\n",
    "                \"Testing\" : 0\n",
    "            }"
   ]
  },
  {
   "cell_type": "markdown",
   "metadata": {},
   "source": [
    "# Note 2:\n",
    "\n",
    "If user intends to use our built-in CNN, any number of channels are welcome.\n",
    "\n",
    "If user intends to use pre-trained networks from Keras.applications (VGG, ResNet50, Inception), be warned that these networks are built for 3 channels of RGB images. Therefore, one should selectively choose maximum 3 channels that provide sufficient information for making prediction, and should omit the channels that may introduce noise."
   ]
  },
  {
   "cell_type": "markdown",
   "metadata": {},
   "source": [
    "# Caution:\n",
    "\n",
    "In scenario 2 of Note 1, if new data has less number of classes (and folders) than previously digested (training) dataset, its digested label will not be correct. It's thus recommended to include all classes for training/validation/test data."
   ]
  },  
  {
   "cell_type": "markdown",
   "metadata": {},
   "source": [
    "# Actions:"
   ]
  },
  {
   "cell_type": "code",
   "execution_count": null,
   "metadata": {
    "collapsed": true
   },
   "outputs": [],
   "source": [
    "import digest"
   ]
  },
  {
   "cell_type": "code",
   "execution_count": null,
   "metadata": {
    "collapsed": true
   },
   "outputs": [],
   "source": [
    "digest.parse(filetype, directory, data, channels, image_size)"
   ]
  },
  {
   "cell_type": "code",
   "execution_count": null,
   "metadata": {
    "collapsed": true
   },
   "outputs": [],
   "source": [
    "digest.split(directory, split)"
   ]
  },
  {
   "cell_type": "code",
   "execution_count": null,
   "metadata": {
    "collapsed": true
   },
   "outputs": [],
   "source": [
    "digest.class_weights(directory, data)"
   ]
  }
 ],
 "metadata": {
  "kernelspec": {
   "display_name": "Python 3",
   "language": "python",
   "name": "python3"
  },
  "language_info": {
   "codemirror_mode": {
    "name": "ipython",
    "version": 3
   },
   "file_extension": ".py",
   "mimetype": "text/x-python",
   "name": "python",
   "nbconvert_exporter": "python",
   "pygments_lexer": "ipython3",
   "version": "3.6.1"
  }
 },
 "nbformat": 4,
 "nbformat_minor": 2
}
